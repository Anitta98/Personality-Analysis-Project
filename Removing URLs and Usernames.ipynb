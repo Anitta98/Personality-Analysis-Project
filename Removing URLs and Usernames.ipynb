{
 "cells": [
  {
   "cell_type": "markdown",
   "id": "ed80a26f",
   "metadata": {},
   "source": [
    "# Removing URL"
   ]
  },
  {
   "cell_type": "code",
   "execution_count": null,
   "id": "0e148637",
   "metadata": {},
   "outputs": [],
   "source": [
    "text = re.sub(r'\\w+:\\/{2}[\\d\\w-]+(\\.[\\d\\w-]+)*(?:(?:\\/[^\\s/]*))*', '', text)\n",
    "text"
   ]
  },
  {
   "cell_type": "markdown",
   "id": "8cf6a964",
   "metadata": {},
   "source": [
    "# Removing hashtags and usernames"
   ]
  },
  {
   "cell_type": "code",
   "execution_count": null,
   "id": "3ad5e1cf",
   "metadata": {},
   "outputs": [],
   "source": [
    "clean_text = re.sub(\"@[A-Za-z0-9_]+\",\"\", text)\n",
    "clean_text = re.sub(\"#[A-Za-z0-9_]+\",\"\", clean_text)\n",
    "clean_text"
   ]
  }
 ],
 "metadata": {
  "kernelspec": {
   "display_name": "Python 3",
   "language": "python",
   "name": "python3"
  },
  "language_info": {
   "codemirror_mode": {
    "name": "ipython",
    "version": 3
   },
   "file_extension": ".py",
   "mimetype": "text/x-python",
   "name": "python",
   "nbconvert_exporter": "python",
   "pygments_lexer": "ipython3",
   "version": "3.8.8"
  }
 },
 "nbformat": 4,
 "nbformat_minor": 5
}
