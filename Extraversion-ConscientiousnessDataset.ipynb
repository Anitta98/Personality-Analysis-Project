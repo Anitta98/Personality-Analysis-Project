{
 "cells": [
  {
   "cell_type": "markdown",
   "id": "94dfd40f",
   "metadata": {},
   "source": [
    "# Conscientiousness"
   ]
  },
  {
   "cell_type": "code",
   "execution_count": 1,
   "id": "851b83c7",
   "metadata": {},
   "outputs": [],
   "source": [
    "achievement_striving=['accomplishment','attainment','creation','deed','effort','feat','performance','realization','success',\n",
    "'triumph','victory','acquirement','acquisition','act','actualization','completion','conquest','consummation','contrivance',\n",
    "'effectuation','enactment','encompassment','execution','exploit','fulfillment','hit','masterpiece','production','stroke',\n",
    "'bang away', 'beaver', 'dig', 'drudge', 'endeavor', 'fag', 'grub', 'hump', 'hustle', 'labor', 'moil', 'peg', 'plod', 'plow', \n",
    "'plug', 'slave', 'slog', 'strain', 'struggle', 'sweat', 'toil', 'travail', 'tug', 'apply', 'buckle', 'hammer', 'knuckle down',\n",
    "'pitch','attack', 'drive essay', 'exert', 'overexert', 'overwork', 'grind', 'put out', 'scrabble', 'scratch','trudge', 'wade']\n",
    "\n",
    "\n",
    "cautiousness=['careful','wary','aware','heedful','attentive','alert','watchful','vigilant','circumspect','prudent',\n",
    "'guarded','chary','mindful','cagey','alertness' ,'care', 'carefulness', 'caution', 'chariness', 'circumspection', 'gingerliness', \n",
    "'guardedness', 'heedfulness', 'prudence', 'wariness','attentiveness', 'observance', 'vigilance', 'watchfulness foresight', \n",
    "'foresightedness', 'providence calculation', 'canniness', 'deliberateness', 'deliberation', 'shrewdness','cautiously','cautious'\n",
    "'cautiousness']\n",
    "\n",
    "\n",
    "orderliness=['arrangement','classification','design','form','order','organization','pattern','plan','planning','purpose',\n",
    "'regularity','structure','system','systematization','coordination', 'correlation', 'correspondence', 'equalization', 'equilibrium', \n",
    "'evenness', 'order', 'regularity','uniformity balance', 'coherence', 'concinnity', 'consonance', 'consonancy', 'harmony', \n",
    "'orchestration', 'proportion', 'symmetry', 'symphony', 'unity','orderings','orderliness','orderly','method']\n",
    "\n",
    "self_discipline=['continence', 'restraint', 'self-command', 'self-containment', 'self-control', 'self-government', 'self-mastery',\n",
    "'self-possession', 'self-restraint', 'will', 'willpower','self-abnegation', 'self-denial' ,'moderateness', 'moderation', \n",
    "'temperance', 'temperateness', 'determination', 'nerve command', 'control', 'discipline', 'mastery abnegation', 'abstention', \n",
    "'avoidance', 'eschewal', 'forbearance abstinence', 'soberness', 'sobriety aplomb', 'assurance', 'composure', 'confidence', \n",
    "'coolness', 'equanimity', 'poise', 'self-confidence','discretion','self-directed','self-discipline','self-disciplined']\n",
    "\n",
    "\n",
    "self_efficiency=['self-effacing' ,'self-effacement', 'self-effacingly', 'self-effacements', 'self-efficacies','self-efficiency',\n",
    "'personal efficacy','confidence in ones own abilities','belief in ones ability to succeed','self-belief','self-motivation',\n",
    "'self belief','self efficacy','self-acceptance','self-actualisation','self-actualization','self-analysis','self-awareness',\n",
    "'self-concept','self-consciousness','self-conviction','self-determination','self-devotion','self-disgust','self-energy',\n",
    "'self-esteem','self-fulfillment','self-gratification','self-harm','self-hatred','self-help','self-identification','self-image',\n",
    "'self-importance','self-improvement','self-knowledge','self-love','self-mastery','I','we','us','helping','team','forward']"
   ]
  },
  {
   "cell_type": "markdown",
   "id": "2f0e26c8",
   "metadata": {},
   "source": [
    "# Extraversion"
   ]
  },
  {
   "cell_type": "code",
   "execution_count": null,
   "id": "2f01a143",
   "metadata": {},
   "outputs": [],
   "source": [
    "activity_level=['activity rate','activities as a whole','activities in general','activity amount','activity generally',\n",
    "'activity in general','amount of activity','campaign activity level','degree of activity','employment rate','employment rates',\n",
    "'innovation in general','labour force participation','level of activities','level of activity','level of economic activity',\n",
    "'level of employment','level of operation','level of outputs','levels of activity','levels of economic activity','output level',\n",
    "'overall activity','overall operations','participation rate','activity level','support','inspiring','wishes']\n",
    "\n",
    "\n",
    "assertiveness=['conclusiveness','decisiveness','determination','emphaticalness','firmness','purpose','purposefulness','resoluteness',\n",
    "'resolution','resolve','willpower','aggressiveness','emphasis','fierceness','forcefulness','intenseness','intensity','vehemence',\n",
    "'vigorousness','violence','potency','power','strength','eloquence','ardency','ardor','fervency','fervidness','fervor',\n",
    "'insistence','passion','warmth','stridency','vociferousness','absoluteness','clearness','directness','incision','incisiveness',\n",
    "'plainness','straightforwardness','vividness','assertive','assertiveness','win','focus','forward','try','better','cant wait','move','till the end','looking forward']\n",
    "\n",
    "cheerfulness=['animated','bright','buoyant','cheery','chipper','chirpy','effervescent','enthusiastic','good-natured','happy',\n",
    "'jaunty','jolly','joyful','lighthearted','lively','merry','optimistic','peppy','perky','pleasant','rosy','sanguine','sunny',\n",
    "'upbeat','airy','blithe','bouncy','bucked','contented','enlivening','full of pep','gay','glad','gladsome','good-humored',\n",
    "'hearty','high','hilarious','hopeful','in good spirits','in high spirits','jocund','roseate','snappy','sparkling','sprightly',\n",
    "'up','vivacious','winsome','zappy','zingy','zippy','cheerful','blithely','brightly','gaily','genially','gladly','gleefully',\n",
    "'happily','joyfully','merrily','optimistically','playfully','pleasantly','readily','willingly','airil','buoyantly','elatedly',\n",
    "'hopefully','jovially','lightheartedly','mirthfully','sportively','cheerfully','animation','buoyancy','cheer','comfort',\n",
    "'delight','encouragement','exuberance','gaiety','geniality','gladness','glee','hilarity','hopefulness','jauntiness','jocundity',\n",
    "'joy','joyousness','liveliness','merriment','mirth','optimism','solace','cheeriness','good cheer','light-heartedness','cheerfulness']\n",
    "\n",
    "\n",
    "excitement=['adventure','buzz','commotion','confusion','drama','elation','emotion','feeling','frenzy','furor','fuss','hysteria',\n",
    "'motivation','passion','rage','thrill','trepidation','tumult','turmoil','warmth','action','activity','ado','agitation',\n",
    "'animation','bother','discomposure','disturbance','dither','excitation','ferment','fever','flurry','heat','hubbub','hullabaloo',\n",
    "'hurry','impulse','instigation','intoxication','kicks','melodrama','motive','movement','perturbation','provocation','stimulation',\n",
    "'stimulus','stir','titillation','to-do','urge','wildness','exicted','agitated','annoyed','delighted','disturbed','eager',\n",
    "'enthusiastic','hysterical','nervous','passionate','thrilled','animated','aroused','awakened','charged','discomposed',\n",
    "'disconcerted','inflamed','moved','piqued','provoked','roused','ruffled','stimulated','stirred','wired','aflame','beside oneself',\n",
    "'feverish','fired up','frantic','high','hot','hot and bothered','hyperactive','in a tizz','juiced up','jumpy','keyed-up',\n",
    "'on edge','on fire','overwrought','steamed up','tumultous/tumultuous','wild','worked-up','zipped up','exitedly','exitedeness']\n",
    "\n",
    "\n",
    "outgoing=['extrovert', 'uninhibited', 'unreserved', 'demonstrative', 'affectionate', 'warm', 'friendly', 'genial', 'cordial', \n",
    "'affable', 'easy-going','easy', 'hail-fellow-well-met', 'approachable', 'sociable', 'convivial', 'lively', 'gregarious', \n",
    "'attention-seeking','communicative','responsive', 'open', 'forthcoming', 'frank', 'expansive','talkative', 'garrulous', \n",
    "'loquacious','departing', 'retiring', 'leaving']"
   ]
  }
 ],
 "metadata": {
  "kernelspec": {
   "display_name": "Python 3",
   "language": "python",
   "name": "python3"
  },
  "language_info": {
   "codemirror_mode": {
    "name": "ipython",
    "version": 3
   },
   "file_extension": ".py",
   "mimetype": "text/x-python",
   "name": "python",
   "nbconvert_exporter": "python",
   "pygments_lexer": "ipython3",
   "version": "3.8.8"
  }
 },
 "nbformat": 4,
 "nbformat_minor": 5
}
