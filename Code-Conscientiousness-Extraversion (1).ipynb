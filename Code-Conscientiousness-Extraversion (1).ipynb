{
 "cells": [
  {
   "cell_type": "markdown",
   "id": "8df74425",
   "metadata": {},
   "source": [
    "# Conscientiousness"
   ]
  },
  {
   "cell_type": "code",
   "execution_count": null,
   "id": "f97fd658",
   "metadata": {},
   "outputs": [],
   "source": [
    "c6=0\n",
    "for i in res:\n",
    "    for j in achievement_striving:\n",
    "        i=porter.stem(i)\n",
    "        j=porter.stem(j)\n",
    "        if j.lower() in i.lower():\n",
    "            c6=c6+1\n",
    "print(c6/len(achievement_striving))\n",
    "\n",
    "c7=0\n",
    "for i in res:\n",
    "    for j in cautiousness:\n",
    "        i=porter.stem(i)\n",
    "        j=porter.stem(j)\n",
    "        if j.lower() in i.lower():\n",
    "            c7=c7+1\n",
    "print(c7/len(cautiousness))\n",
    "\n",
    "c8=0\n",
    "for i in res:\n",
    "    for j in orderliness:\n",
    "        i=porter.stem(i)\n",
    "        j=porter.stem(j)\n",
    "        if j.lower() in i.lower():\n",
    "            c8=c8+1\n",
    "print(c8/len(orderliness))\n",
    "\n",
    "c9=0\n",
    "for i in res:\n",
    "    for j in self_discipline:\n",
    "        i=porter.stem(i)\n",
    "        j=porter.stem(j)\n",
    "        if j.lower() in i.lower():\n",
    "            c9=c9+1\n",
    "print(c9/len(self_discipline))\n",
    "\n",
    "c10=0\n",
    "for i in res:\n",
    "    for j in self_efficiency:\n",
    "        i=porter.stem(i)\n",
    "        j=porter.stem(j)\n",
    "        if j.lower() in i.lower():\n",
    "            c10=c10+1\n",
    "print(c10/len(self_efficiency))\n",
    "\n"
   ]
  },
  {
   "cell_type": "markdown",
   "id": "810343b2",
   "metadata": {},
   "source": [
    "# Extraversion"
   ]
  },
  {
   "cell_type": "code",
   "execution_count": null,
   "id": "5831fd2f",
   "metadata": {},
   "outputs": [],
   "source": [
    "\n",
    "c11=0\n",
    "for i in res:\n",
    "    for j in activity_level:\n",
    "        i=porter.stem(i)\n",
    "        j=porter.stem(j)\n",
    "        if j.lower() in i.lower():\n",
    "            c11=c11+1\n",
    "print(c11/len(activity_level))\n",
    "\n",
    "c12=0\n",
    "for i in res:\n",
    "    for j in assertiveness:\n",
    "        i=porter.stem(i)\n",
    "        j=porter.stem(j)\n",
    "        if j.lower() in i.lower():\n",
    "            c12=c12+1\n",
    "print(c12/len(assertiveness))\n",
    "\n",
    "c13=0\n",
    "for i in res:\n",
    "    for j in cheerfulness:\n",
    "        i=porter.stem(i)\n",
    "        j=porter.stem(j)\n",
    "        if j.lower() in i.lower():\n",
    "            c13=c13+1\n",
    "print(c13/len(cheerfulness))\n",
    "\n",
    "c14=0\n",
    "for i in res:\n",
    "    for j in excitement:\n",
    "        i=porter.stem(i)\n",
    "        j=porter.stem(j)\n",
    "        if j.lower() in i.lower():\n",
    "            c14=c14+1\n",
    "print(c14/len(excitement))\n",
    "\n",
    "c15=0\n",
    "for i in res:\n",
    "    for j in outgoing:\n",
    "        i=porter.stem(i)\n",
    "        j=porter.stem(j)\n",
    "        if j.lower() in i.lower():\n",
    "            c15=c15+1\n",
    "print(c15/len(outgoing))\n"
   ]
  }
 ],
 "metadata": {
  "kernelspec": {
   "display_name": "Python 3",
   "language": "python",
   "name": "python3"
  },
  "language_info": {
   "codemirror_mode": {
    "name": "ipython",
    "version": 3
   },
   "file_extension": ".py",
   "mimetype": "text/x-python",
   "name": "python",
   "nbconvert_exporter": "python",
   "pygments_lexer": "ipython3",
   "version": "3.8.8"
  }
 },
 "nbformat": 4,
 "nbformat_minor": 5
}
