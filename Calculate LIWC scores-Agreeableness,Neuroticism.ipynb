{
 "cells": [
  {
   "cell_type": "markdown",
   "id": "6caf1d32",
   "metadata": {},
   "source": [
    "### calculate LIWC scores"
   ]
  },
  {
   "cell_type": "code",
   "execution_count": null,
   "id": "7998a7a8",
   "metadata": {},
   "outputs": [],
   "source": [
    "#agreeableness\n",
    "\n",
    "x1=0\n",
    "for i in pos_emo:\n",
    "    for j in res:\n",
    "        i=porter.stem(i)\n",
    "        j=porter.stem(j)\n",
    "        if i.lower() == j.lower():\n",
    "            x1=x1+1\n",
    "x1=x1/len(res)\n",
    "\n",
    "x2=0\n",
    "for i in negation:\n",
    "    for j in res:\n",
    "        i=porter.stem(i)\n",
    "        j=porter.stem(j)\n",
    "        if i.lower() == j.lower():\n",
    "            x2=x2+1\n",
    "x2=x2/len(res)\n",
    "\n",
    "x3=0\n",
    "for i in p_pronoun:\n",
    "    for j in res:\n",
    "        i=porter.stem(i)\n",
    "        j=porter.stem(j)\n",
    "        if i.lower() == j.lower():\n",
    "            x3=x3+1\n",
    "            \n",
    "x3=x3/len(res)\n",
    "val4=(x1+x2+x3)/3\n",
    "print(val4)"
   ]
  },
  {
   "cell_type": "code",
   "execution_count": null,
   "id": "b98fd340",
   "metadata": {},
   "outputs": [],
   "source": [
    "#neuroticism\n",
    "\n",
    "x1=0\n",
    "for i in anxiety:\n",
    "    for j in res:\n",
    "        i=porter.stem(i)\n",
    "        j=porter.stem(j)\n",
    "        if i.lower() == j.lower():\n",
    "            x1=x1+1\n",
    "x1=x1/len(res)\n",
    "\n",
    "x2=0\n",
    "for i in fut_verbs:\n",
    "    for j in res:\n",
    "        i=porter.stem(i)\n",
    "        j=porter.stem(j)\n",
    "        if i.lower() == j.lower():\n",
    "            x2=x2+1\n",
    "x2=x2/len(res)\n",
    "\n",
    "x3=0\n",
    "for i in neg_emo:\n",
    "    for j in res:\n",
    "        i=porter.stem(i)\n",
    "        j=porter.stem(j)\n",
    "        if i.lower() == j.lower():\n",
    "            x3=x3+1\n",
    "        \n",
    "x3=x3/len(res)\n",
    "val5=(x1+x2+x3)/3\n",
    "print(val5)"
   ]
  }
 ],
 "metadata": {
  "kernelspec": {
   "display_name": "Python 3 (ipykernel)",
   "language": "python",
   "name": "python3"
  },
  "language_info": {
   "codemirror_mode": {
    "name": "ipython",
    "version": 3
   },
   "file_extension": ".py",
   "mimetype": "text/x-python",
   "name": "python",
   "nbconvert_exporter": "python",
   "pygments_lexer": "ipython3",
   "version": "3.9.6"
  }
 },
 "nbformat": 4,
 "nbformat_minor": 5
}
