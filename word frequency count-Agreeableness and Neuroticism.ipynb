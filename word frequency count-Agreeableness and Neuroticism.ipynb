{
 "cells": [
  {
   "cell_type": "markdown",
   "id": "47201d46",
   "metadata": {},
   "source": [
    "### Word Frequency Count"
   ]
  },
  {
   "cell_type": "code",
   "execution_count": null,
   "id": "5260b5ac",
   "metadata": {},
   "outputs": [],
   "source": [
    "##Agreeableness"
   ]
  },
  {
   "cell_type": "code",
   "execution_count": null,
   "id": "a9379982",
   "metadata": {},
   "outputs": [],
   "source": [
    "c16=0\n",
    "for i in res:\n",
    "    for j in cooperation:\n",
    "        i=porter.stem(i)\n",
    "        j=porter.stem(j)\n",
    "        if j.lower() in i.lower():\n",
    "            c16=c16+1\n",
    "print(c16/len(cooperation))\n",
    "\n",
    "c17=0\n",
    "for i in res:\n",
    "    for j in modesty:\n",
    "        i=porter.stem(i)\n",
    "        j=porter.stem(j)\n",
    "        if j.lower() in i.lower():\n",
    "            c17=c17+1\n",
    "print(c17/len(modesty))\n",
    "\n",
    "c18=0\n",
    "for i in res:\n",
    "    for j in sympathy:\n",
    "        i=porter.stem(i)\n",
    "        j=porter.stem(j)\n",
    "        if j.lower() in i.lower():\n",
    "            c18=c18+1\n",
    "print(c18/len(sympathy))\n",
    "\n",
    "c19=0\n",
    "for i in res:\n",
    "    for j in trust:\n",
    "        i=porter.stem(i)\n",
    "        j=porter.stem(j)\n",
    "        if j.lower() in i.lower():\n",
    "            c19=c19+1\n",
    "print(c19/len(trust))\n",
    "\n",
    "c20=0\n",
    "for i in res:\n",
    "    for j in uncompromise:\n",
    "        i=porter.stem(i)\n",
    "        j=porter.stem(j)\n",
    "        if j.lower() in i.lower():\n",
    "            c20=c20+1\n",
    "print(c20/len(uncompromise))\n",
    "\n",
    "c21=0\n",
    "for i in res:\n",
    "    for j in altruism:\n",
    "        i=porter.stem(i)\n",
    "        j=porter.stem(j)\n",
    "        if j.lower() in i.lower():\n",
    "            c21=c21+1\n",
    "print(c21/len(altruism))"
   ]
  },
  {
   "cell_type": "code",
   "execution_count": null,
   "id": "75293ec7",
   "metadata": {},
   "outputs": [],
   "source": [
    "##Neuroticism"
   ]
  },
  {
   "cell_type": "code",
   "execution_count": null,
   "id": "c69468cd",
   "metadata": {},
   "outputs": [],
   "source": [
    "c22=0\n",
    "for i in res:\n",
    "    for j in prone_to_worry:\n",
    "        i=porter.stem(i)\n",
    "        j=porter.stem(j)\n",
    "        if j.lower() in i.lower():\n",
    "            c22=c22+1\n",
    "print(c22/len(prone_to_worry))\n",
    "\n",
    "c23=0\n",
    "for i in res:\n",
    "    for j in immoderation:\n",
    "        i=porter.stem(i)\n",
    "        j=porter.stem(j)\n",
    "        if j.lower() in i.lower():\n",
    "            c23=c23+1\n",
    "print(c23/len(immoderation))\n",
    "\n",
    "c24=0\n",
    "for i in res:\n",
    "    for j in fiery:\n",
    "        i=porter.stem(i)\n",
    "        j=porter.stem(j)\n",
    "        if j.lower() in i.lower():\n",
    "            c24=c24+1\n",
    "print(c24/len(fiery))\n",
    "\n",
    "c25=0\n",
    "for i in res:\n",
    "    for j in self_conscieousness:\n",
    "        i=porter.stem(i)\n",
    "        j=porter.stem(j)\n",
    "        if j.lower() in i.lower():\n",
    "            c25=c25+1\n",
    "print(c25/len(self_conscieousness))\n",
    "\n",
    "c26=0\n",
    "for i in res:\n",
    "    for j in susceptible_to_stress:\n",
    "        i=porter.stem(i)\n",
    "        j=porter.stem(j)\n",
    "        if j.lower() in i.lower():\n",
    "            c26=c26+1\n",
    "print(c26/len(susceptible_to_stress))"
   ]
  }
 ],
 "metadata": {
  "kernelspec": {
   "display_name": "Python 3 (ipykernel)",
   "language": "python",
   "name": "python3"
  },
  "language_info": {
   "codemirror_mode": {
    "name": "ipython",
    "version": 3
   },
   "file_extension": ".py",
   "mimetype": "text/x-python",
   "name": "python",
   "nbconvert_exporter": "python",
   "pygments_lexer": "ipython3",
   "version": "3.9.6"
  }
 },
 "nbformat": 4,
 "nbformat_minor": 5
}
